{
 "cells": [
  {
   "cell_type": "code",
   "execution_count": 9,
   "metadata": {},
   "outputs": [],
   "source": [
    "import numpy as np\n",
    "import numba as nb\n",
    "import cv2"
   ]
  },
  {
   "cell_type": "code",
   "execution_count": 10,
   "metadata": {},
   "outputs": [],
   "source": [
    "@nb.njit(fastmath=True)\n",
    "def contrast_img(img, colours):\n",
    "    \"\"\"\n",
    "    Return the high-contrast image,\n",
    "    with each pixel set as the closest high-contrast colour.\n",
    "    \"\"\"\n",
    "    rgb_img = np.copy(img)\n",
    "    for i, row in enumerate(rgb_img):\n",
    "        for j, rgb_pixel in enumerate(row):\n",
    "            dists = np.empty(len(colours))\n",
    "            for k, colour in enumerate(colours):\n",
    "                dist = 0\n",
    "                for x, y in zip(rgb_pixel, colour):\n",
    "                    dist += np.abs(x-y) ** 2\n",
    "                dists[k] = dist ** (1/2) \n",
    "            min_val = dists[0]\n",
    "            min_ind = 0\n",
    "            for l in range(1, len(colours)):\n",
    "                if dists[l] < min_val:\n",
    "                    min_val = dists[l]\n",
    "                    min_ind = l\n",
    "            rgb_img[i,j] = colours[min_ind]\n",
    "            \n",
    "    return rgb_img"
   ]
  },
  {
   "cell_type": "code",
   "execution_count": 11,
   "metadata": {},
   "outputs": [],
   "source": [
    "@nb.njit(fastmath=True)\n",
    "def rgb_to_grey(img):\n",
    "    \"\"\"\n",
    "    Convert an RGB image to greyscale using the weighted method.\n",
    "    \"\"\"\n",
    "    num_rows, num_cols, _ = img.shape\n",
    "    grey_img = np.empty((num_rows, num_cols), dtype=np.uint8)\n",
    "    for i, row in enumerate(img):\n",
    "        for j, rgb_pixel in enumerate(row):\n",
    "            # Compute weighted sum of RGB channels\n",
    "            grey_img[i, j] = 0.2989 * rgb_pixel[0] + 0.5870 * rgb_pixel[1] + 0.1140 * rgb_pixel[2]\n",
    "\n",
    "    return grey_img"
   ]
  },
  {
   "cell_type": "code",
   "execution_count": 12,
   "metadata": {},
   "outputs": [],
   "source": [
    "def process_img(img, crop=\"box\", pool_size=2, contrast=True, greyscale=True, normalise=True):\n",
    "    \"\"\"\n",
    "    Pre-process the image\n",
    "    \"\"\"\n",
    "    if crop == \"box\":\n",
    "        # Crop unnecessary pixels\n",
    "        img = img[12:-12, 12:-12]\n",
    "        \n",
    "    if pool_size is not None:\n",
    "        # Average pooling according to pool size\n",
    "        img_shape = img.shape\n",
    "        img = cv2.resize(img.astype(\"float32\"), (img_shape[0]//pool_size, img_shape[1]//pool_size), interpolation=cv2.INTER_AREA).astype(np.uint8)\n",
    "        \n",
    "    if contrast:\n",
    "        # Set each pixel colour as its closest high-contrast colour\n",
    "        colours = np.array([[170,0,0],[105,230,105],[0,0,0],[101,101,101],[255,255,255]])\n",
    "        img = contrast_img(img, colours)\n",
    "    \n",
    "    if greyscale:\n",
    "        # Convert the image to greyscale\n",
    "        img = rgb_to_grey(img)\n",
    "    \n",
    "    if normalise:\n",
    "        # Change pixel intensity scale to [0,1]\n",
    "        img = img.astype(np.float32) / 255\n",
    "        \n",
    "    return img"
   ]
  },
  {
   "cell_type": "code",
   "execution_count": 13,
   "metadata": {},
   "outputs": [],
   "source": [
    "@nb.njit(fastmath=True)\n",
    "def get_speed(img):\n",
    "    \"\"\"\n",
    "    Extract the car's true speed from the image.\n",
    "    Range -> [0,1]\n",
    "    \"\"\"\n",
    "    speed_bar = rgb_to_grey(img[84:94,13:14])/255\n",
    "    num_ones = 0\n",
    "    for pixel in speed_bar:\n",
    "        if pixel >= 0.5:\n",
    "            num_ones += 1\n",
    "\n",
    "    return num_ones / len(speed_bar)"
   ]
  },
  {
   "cell_type": "code",
   "execution_count": 14,
   "metadata": {},
   "outputs": [],
   "source": [
    "@nb.njit(fastmath=True)\n",
    "def get_steer(img):\n",
    "    \"\"\"\n",
    "    Extract the steering wheel position from the image.\n",
    "    Range -> [-1,1]\n",
    "    \"\"\"\n",
    "    left_bar   = img[89:90, 38:48, 1:2][0] / 253\n",
    "    right_bar  = img[89:90, 48:58, 1:2][0] / 253\n",
    "    left_ones  = 0\n",
    "    right_ones = 0\n",
    "    for left_pixel, right_pixel in zip(left_bar, right_bar):\n",
    "        if left_pixel >= 0.5:\n",
    "            left_ones += 1\n",
    "        if right_pixel >= 0.5:\n",
    "            right_ones += 1\n",
    "\n",
    "    return (right_ones / len(right_bar)) - (left_ones / len(left_bar))"
   ]
  }
 ],
 "metadata": {
  "kernelspec": {
   "display_name": "tensorflow",
   "language": "python",
   "name": "python3"
  },
  "language_info": {
   "codemirror_mode": {
    "name": "ipython",
    "version": 3
   },
   "file_extension": ".py",
   "mimetype": "text/x-python",
   "name": "python",
   "nbconvert_exporter": "python",
   "pygments_lexer": "ipython3",
   "version": "3.9.13"
  },
  "orig_nbformat": 4
 },
 "nbformat": 4,
 "nbformat_minor": 2
}
