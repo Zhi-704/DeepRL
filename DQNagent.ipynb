{
 "cells": [
  {
   "cell_type": "code",
   "execution_count": 1,
   "id": "7b593ac5",
   "metadata": {},
   "outputs": [],
   "source": [
    "import gym\n",
    "import random\n",
    "import numpy as np\n",
    "import torch\n",
    "import torch.nn as nn\n",
    "import torch.optim as optim\n",
    "from matplotlib import pyplot as plt\n",
    "from preprocess import process_img"
   ]
  },
  {
   "cell_type": "markdown",
   "id": "4f171e85",
   "metadata": {},
   "source": [
    "# Environment"
   ]
  },
  {
   "cell_type": "code",
   "execution_count": 2,
   "id": "97a38b25",
   "metadata": {},
   "outputs": [],
   "source": [
    "# Determine if CPU or GPU computation should be used\n",
    "device = torch.device(\"cuda:0\" if torch.cuda.is_available() else \"cpu\")\n",
    "\n",
    "# env = gym.make(\"CarRacing-v2\", domain_randomize=False, continuous=False, render_mode='human')\n",
    "\n",
    "# # normal reset, this changes the colour scheme by default\n",
    "# state = env.reset()\n",
    "# while True:\n",
    "#     env.render()\n",
    "#     # take a random action\n",
    "#     a = env.action_space.sample()\n",
    "#     state, reward, terminated, truncated, _ = env.step(a)\n",
    "#     if terminated:\n",
    "#         break\n",
    "# env.close() # close and clean up\n",
    "# # reset with colour scheme change: env.reset(options={\"randomize\": True})\n",
    "\n",
    "# # reset with no colour scheme change: env.reset(options={\"randomize\": False})"
   ]
  },
  {
   "cell_type": "code",
   "execution_count": 3,
   "id": "20010cf0",
   "metadata": {},
   "outputs": [],
   "source": [
    "class ImageEnv(gym.Wrapper):\n",
    "    def __init__(\n",
    "        self,\n",
    "        env,\n",
    "        skip_frames=4,\n",
    "        stack_frames=4,\n",
    "        initial_no_op=50,\n",
    "        **kwargs\n",
    "    ):\n",
    "        super(ImageEnv, self).__init__(env, **kwargs)\n",
    "        self.initial_no_op = initial_no_op\n",
    "        self.skip_frames = skip_frames\n",
    "        self.stack_frames = stack_frames\n",
    "\n",
    "    \n",
    "    def reset(self):\n",
    "        # reset the original environment\n",
    "        s, info = self.env.reset()\n",
    "\n",
    "        # Do nothing for the next `self.initial_no_op` steps\n",
    "        for i in range(self.initial_no_op):\n",
    "            s, r, terminated, truncated, info = self.env.step(0)\n",
    "\n",
    "        # crop image\n",
    "        s = process_img(s)\n",
    "        \n",
    "\n",
    "        # initial observation is simply a copy of the frame 's'\n",
    "        self.stacked_state = np.tile(s, (self.stack_frames, 1, 1))\n",
    "        return self.stacked_state, info\n",
    "    \n",
    "    def step(self, action):\n",
    "        # Take an action for self.skip_frames steps\n",
    "        reward = 0\n",
    "        for _ in range(self.skip_frames):\n",
    "            s, r, terminated, truncated, info = self.env.step(action)\n",
    "            reward += r\n",
    "            if terminated or truncated:\n",
    "                break\n",
    "\n",
    "        s = process_img(s)\n",
    "\n",
    "        # push the current frame 's' at the end of self.stacked_state\n",
    "        self.stacked_state = np.concatenate((self.stacked_state[1:], s[np.newaxis]), axis=0)\n",
    "\n",
    "        return self.stacked_state, reward, terminated, truncated, info"
   ]
  },
  {
   "cell_type": "code",
   "execution_count": 4,
   "id": "2ef4ff96",
   "metadata": {},
   "outputs": [
    {
     "name": "stdout",
     "output_type": "stream",
     "text": [
      "The shape of an observation:  (4, 42, 42)\n"
     ]
    },
    {
     "data": {
      "image/png": "[encoded data removed]",
      "text/plain": [
       "<Figure size 1440x360 with 4 Axes>"
      ]
     },
     "metadata": {
      "needs_background": "light"
     },
     "output_type": "display_data"
    }
   ],
   "source": [
    "env = gym.make('CarRacing-v2', continuous=False)\n",
    "env = ImageEnv(env)\n",
    "\n",
    "s, _ = env.reset()\n",
    "print(\"The shape of an observation: \", s.shape)\n",
    "\n",
    "fig, axes = plt.subplots(1, 4, figsize=(20, 5))\n",
    "for i in range(4):\n",
    "    axes[i].imshow(s[i], cmap='gray')\n",
    "    axes[i].axis('off')\n",
    "plt.show()"
   ]
  },
  {
   "cell_type": "markdown",
   "id": "e124e207",
   "metadata": {},
   "source": [
    "# Replay Buffer"
   ]
  },
  {
   "cell_type": "code",
   "execution_count": 5,
   "id": "1d9ab1a4",
   "metadata": {},
   "outputs": [],
   "source": [
    "from collections import deque\n",
    "class ReplayBuffer:\n",
    "    \"\"\"A replay buffer to store experience transition in a fixed capacity\"\"\"\n",
    "    def __init__(self, \n",
    "                 capacity: int=1000, \n",
    "                 batch_size: int=32,\n",
    "                 state_shape: list=[4,42,42]):\n",
    "        self.capacity = capacity\n",
    "        self.batch_size = batch_size\n",
    "        self.memory = deque(maxlen=self.capacity)\n",
    "        \n",
    "    def store(self, experience) -> None:\n",
    "        if len(self.memory) > self.capacity:\n",
    "            del self.memory[0]\n",
    "        self.memory.append(experience)\n",
    "\n",
    "    def sample(self):\n",
    "        \"\"\"Randomly choose a batch of experience samples from memory\"\"\"\n",
    "        indexes = np.random.choice(np.arange(len(self.memory)), size=self.batch_size, replace=False)\n",
    "        return [self.memory[i] for i in indexes]\n",
    "\n",
    "    def __len__(self):\n",
    "        return len(self.memory)"
   ]
  },
  {
   "cell_type": "markdown",
   "id": "aa589fe7",
   "metadata": {},
   "source": [
    "# Q-Network"
   ]
  },
  {
   "cell_type": "code",
   "execution_count": 6,
   "id": "9c0d3af7",
   "metadata": {},
   "outputs": [],
   "source": [
    "class QNetwork(nn.Module):\n",
    "    def __init__(self, \n",
    "                 input_shape: list=[4,42,42],\n",
    "                 action_dim: int=5):\n",
    "        \"\"\"\n",
    "        input size: 42 * 42 * 4\n",
    "        after the first convolutional layer: 20 * 20 * 16\n",
    "        after the second convolutional layer: 9 * 9 * 32\n",
    "        \"\"\"\n",
    "        super(QNetwork, self).__init__()\n",
    "        self.conv1 = nn.Conv2d(input_shape[0], 16, kernel_size=8, stride=4)\n",
    "        self.conv2 = nn.Conv2d(16, 32, kernel_size=4, stride=2)\n",
    "        \n",
    "        # determine the shape of conv2 output by a dummy input tensor\n",
    "        dummy_input = torch.randn(1, *input_shape)\n",
    "        with torch.no_grad():\n",
    "            output_shape = torch.flatten(self.conv2(self.conv1(dummy_input))).shape[0]\n",
    "            \n",
    "        self.hidden_size = 256\n",
    "        self.linear1 = nn.Linear(output_shape, self.hidden_size)\n",
    "        self.classifier = nn.Linear(self.hidden_size, action_dim)\n",
    "        \n",
    "        self.relu = nn.ReLU()\n",
    "        \n",
    "    def forward(self, x):\n",
    "        # Adjust tensor to have shape [batch, *image_shape]\n",
    "        if len(x.shape) == 3:\n",
    "            x = x.unsqueeze(0)\n",
    "        \"\"\"Forward pass of Q-network\"\"\"\n",
    "        x = self.relu(self.conv1(x))\n",
    "        x = self.relu(self.conv2(x))\n",
    "        x = torch.flatten(x, 1)\n",
    "        x = self.linear1(x)\n",
    "        x = self.classifier(x)\n",
    "        return x"
   ]
  },
  {
   "cell_type": "markdown",
   "id": "d00ad27a",
   "metadata": {},
   "source": [
    "# DQN agent"
   ]
  },
  {
   "cell_type": "code",
   "execution_count": 7,
   "id": "d400d300",
   "metadata": {},
   "outputs": [],
   "source": [
    "from torch.utils.data import DataLoader, TensorDataset\n",
    "class DQNagent:\n",
    "    \"\"\"Define the DQN agent and its corresponding methods\"\"\"\n",
    "    def __init__( \n",
    "        self, \n",
    "        env,\n",
    "        alpha=0.0001,\n",
    "        gamma=0.99,\n",
    "        epsilon=0.1,\n",
    "        epsilon_min=0.001,\n",
    "        warm_start=50,\n",
    "        target_update_freq=100,\n",
    "        ):\n",
    "        super().__init__()\n",
    "\n",
    "        self.state_dim = env.observation_space.shape[0]\n",
    "        self.action_dim = env.action_space.n\n",
    "        \n",
    "        self.alpha = alpha\n",
    "        self.gamma = gamma\n",
    "        self.epsilon = epsilon\n",
    "        self.epsilon_min = epsilon_min\n",
    "        self.epsilon_decay = (self.epsilon - self.epsilon_min)/100000\n",
    "        \n",
    "        self.warm_start = warm_start\n",
    "        self.target_update_freq = target_update_freq\n",
    "        \n",
    "        self.buffer = ReplayBuffer()\n",
    "        \n",
    "        self.network = QNetwork().to(device)\n",
    "        self.target_network = QNetwork().to(device)\n",
    "        self.target_network.load_state_dict(self.network.state_dict())\n",
    "        self.optimizer = optim.RMSprop(self.network.parameters(), self.alpha)\n",
    "        \n",
    "        # Define the loss function\n",
    "        self.loss = nn.MSELoss()\n",
    "        \n",
    "        self.total_step = 0\n",
    "        \n",
    "    def forward(self, x):\n",
    "        return self.network(x)        \n",
    "    \n",
    "    def add(self, state, action, reward, terminated, next_state):\n",
    "        self.buffer.store((state, action, reward, terminated, next_state))\n",
    "        \n",
    "    def choose_action(self, state):\n",
    "        state = torch.from_numpy(state).float()\n",
    "        if np.random.uniform() < self.epsilon:\n",
    "            action = np.random.choice(self.action_dim)\n",
    "        else:\n",
    "            with torch.no_grad():\n",
    "                q_values = self.network.forward(state)\n",
    "            action = torch.argmax(q_values, dim=1).item()\n",
    "        \n",
    "        self.epsilon = max(self.epsilon_min, self.epsilon - self.epsilon_decay)\n",
    "        return action\n",
    "    \n",
    "    def process(self):\n",
    "        self.total_step += 1\n",
    "        if self.total_step >= self.warm_start:\n",
    "            self.learn()\n",
    "\n",
    "    def learn(self):\n",
    "        batch = self.buffer.sample()\n",
    "        states, actions, rewards, terminates, next_states = zip(*batch)\n",
    "        states = np.array(states)\n",
    "        next_states = np.array(next_states)\n",
    "        states = torch.FloatTensor(states).to(device)\n",
    "        next_states = torch.FloatTensor(next_states).to(device)\n",
    "        actions = torch.FloatTensor(actions).unsqueeze(1).to(device)\n",
    "        rewards = torch.FloatTensor(rewards).unsqueeze(1).to(device)\n",
    "        terminates = torch.FloatTensor(terminates).unsqueeze(1).to(device)\n",
    "\n",
    "        state_action_values = self.network(states).gather(1, actions.long())\n",
    "        \n",
    "        with torch.no_grad():\n",
    "            best_q_values = self.target_network(next_states)\n",
    "            y = rewards + self.gamma* (1 - terminates) * torch.max(best_q_values, dim=1, keepdim=True)[0] \n",
    "        \n",
    "        loss = self.loss(state_action_values, y)\n",
    "        writer.add_scalar('loss', loss.item(), global_step=self.total_step)\n",
    "        \n",
    "        self.optimizer.zero_grad()\n",
    "        loss.backward()\n",
    "        self.optimizer.step()\n",
    "        \n",
    "        # update target network\n",
    "        if self.total_step % self.target_update_freq == 0:\n",
    "            self.target_network.load_state_dict(self.network.state_dict())\n",
    "        \n",
    "        return loss"
   ]
  },
  {
   "cell_type": "markdown",
   "id": "f6dd0da0",
   "metadata": {},
   "source": [
    "# Training"
   ]
  },
  {
   "cell_type": "code",
   "execution_count": null,
   "id": "5ab2181f",
   "metadata": {},
   "outputs": [
    {
     "name": "stdout",
     "output_type": "stream",
     "text": [
      "Ep 0\tMoving average score: 11.46\tTotal steps: 238\t\n",
      "Ep 10\tMoving average score: 49.40\tTotal steps: 2308\t\n",
      "Ep 20\tMoving average score: 377.53\tTotal steps: 4525\t\n",
      "Ep 30\tMoving average score: 632.89\tTotal steps: 6905\t\n",
      "Ep 40\tMoving average score: 467.89\tTotal steps: 9285\t\n",
      "Ep 50\tMoving average score: 685.39\tTotal steps: 11665\t\n",
      "Ep 60\tMoving average score: 699.79\tTotal steps: 14045\t\n",
      "Ep 70\tMoving average score: 653.23\tTotal steps: 16425\t\n",
      "Ep 80\tMoving average score: 679.41\tTotal steps: 18805\t\n",
      "Ep 90\tMoving average score: 640.71\tTotal steps: 21173\t\n",
      "Ep 100\tMoving average score: 737.06\tTotal steps: 23551\t\n"
     ]
    }
   ],
   "source": [
    "from itertools import count\n",
    "from tensorboardX import SummaryWriter\n",
    "env = gym.make('CarRacing-v2', continuous=False)\n",
    "env = ImageEnv(env)\n",
    "\n",
    "agent = DQNagent(env)\n",
    "nepisode = 0\n",
    "max_step = int(1e4)\n",
    "writer = SummaryWriter('logs/dqn')\n",
    "for epoch in count():\n",
    "    state, _ = env.reset()\n",
    "    episode_reward = 0\n",
    "    for time_steps in range(max_step):\n",
    "        action = agent.choose_action(state)\n",
    "        next_state, reward, terminated, truncated, info = env.step(action)\n",
    "        agent.add(state, action, reward, terminated, next_state)\n",
    "        episode_reward += reward    \n",
    "        #train the transition\n",
    "        agent.process()\n",
    "\n",
    "        if terminated or truncated:\n",
    "            break\n",
    "        else:\n",
    "            state = next_state\n",
    "            \n",
    "    writer.add_scalar('episode reward', episode_reward, global_step=epoch)\n",
    "    if epoch % 10 == 0:\n",
    "        torch.save(agent.network.state_dict(), 'dqn-policy.para')\n",
    "        print('Ep {}\\tMoving average score: {:.2f}\\tTotal steps: {}\\t'.format(epoch, episode_reward, agent.total_step))\n",
    "\n"
   ]
  },
  {
   "cell_type": "code",
   "execution_count": null,
   "id": "58e12e8b",
   "metadata": {},
   "outputs": [],
   "source": [
    "# # plot the learning curve\n",
    "# plt.figure(figsize=(10, 5))\n",
    "# plt.subplot(1, 2, 1)\n",
    "# plt.plot(episode_rewards)\n",
    "# plt.xlabel('Episode')\n",
    "# plt.ylabel('Average Reward')\n",
    "# plt.show()"
   ]
  },
  {
   "cell_type": "code",
   "execution_count": null,
   "id": "119803d5",
   "metadata": {},
   "outputs": [],
   "source": []
  },
  {
   "cell_type": "code",
   "execution_count": null,
   "id": "f91b1989",
   "metadata": {},
   "outputs": [],
   "source": []
  }
 ],
 "metadata": {
  "kernelspec": {
   "display_name": "Python 3 (ipykernel)",
   "language": "python",
   "name": "python3"
  },
  "language_info": {
   "codemirror_mode": {
    "name": "ipython",
    "version": 3
   },
   "file_extension": ".py",
   "mimetype": "text/x-python",
   "name": "python",
   "nbconvert_exporter": "python",
   "pygments_lexer": "ipython3",
   "version": "3.9.12"
  }
 },
 "nbformat": 4,
 "nbformat_minor": 5
}
